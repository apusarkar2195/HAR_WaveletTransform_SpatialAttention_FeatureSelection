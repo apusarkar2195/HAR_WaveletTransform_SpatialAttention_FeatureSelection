{
 "cells": [
  {
   "cell_type": "code",
   "execution_count": null,
   "id": "faae2c4c",
   "metadata": {},
   "outputs": [],
   "source": [
    "import numpy as np\n",
    "import pandas as pd\n",
    "import os"
   ]
  },
  {
   "cell_type": "code",
   "execution_count": null,
   "id": "ce002273",
   "metadata": {},
   "outputs": [],
   "source": [
    "df=pd.read_csv('...\\\\HAR\\\\DataSet\\\\HHAR\\Activity recognition exp\\\\Phones_accelerometer.csv')\n",
    "df"
   ]
  },
  {
   "cell_type": "code",
   "execution_count": null,
   "id": "b3b27b23",
   "metadata": {},
   "outputs": [],
   "source": [
    "df.info()"
   ]
  },
  {
   "cell_type": "code",
   "execution_count": null,
   "id": "2fe90520",
   "metadata": {},
   "outputs": [],
   "source": [
    "df.isna().sum()"
   ]
  },
  {
   "cell_type": "code",
   "execution_count": null,
   "id": "e14002c2",
   "metadata": {},
   "outputs": [],
   "source": [
    "df=df.dropna()\n",
    "df"
   ]
  },
  {
   "cell_type": "code",
   "execution_count": null,
   "id": "92c15958",
   "metadata": {},
   "outputs": [],
   "source": [
    "df['gt'].unique()"
   ]
  },
  {
   "cell_type": "code",
   "execution_count": null,
   "id": "0190e989",
   "metadata": {},
   "outputs": [],
   "source": [
    "data_set=df.drop(['Index','Arrival_Time','Creation_Time','User','Model','Device'],axis=1)\n",
    "data_set"
   ]
  },
  {
   "cell_type": "code",
   "execution_count": null,
   "id": "ebd8e809",
   "metadata": {},
   "outputs": [],
   "source": [
    "y_data=data_set['gt']\n",
    "y_data"
   ]
  },
  {
   "cell_type": "code",
   "execution_count": null,
   "id": "78e6f8c6",
   "metadata": {},
   "outputs": [],
   "source": [
    "x_data=data_set.drop(['gt'],axis=1)\n",
    "x_data"
   ]
  },
  {
   "cell_type": "code",
   "execution_count": null,
   "id": "07ef21c0",
   "metadata": {},
   "outputs": [],
   "source": [
    "from sklearn.preprocessing import MinMaxScaler\n",
    "scaler=MinMaxScaler()\n",
    "x_data=scaler.fit_transform(x_data)\n",
    "x_data"
   ]
  },
  {
   "cell_type": "code",
   "execution_count": null,
   "id": "1fc55323",
   "metadata": {},
   "outputs": [],
   "source": [
    "from sklearn.preprocessing import LabelEncoder\n",
    "\n",
    "encoder=LabelEncoder()\n",
    "y_data=encoder.fit_transform(y_data)\n",
    "encoder.classes_"
   ]
  },
  {
   "cell_type": "code",
   "execution_count": null,
   "id": "a7c1b7ce",
   "metadata": {},
   "outputs": [],
   "source": [
    "y_data"
   ]
  },
  {
   "cell_type": "code",
   "execution_count": null,
   "id": "7e7edfdb",
   "metadata": {},
   "outputs": [],
   "source": [
    "columns=['X','Y','Z']\n",
    "x_data=pd.DataFrame(x_data,columns=columns)\n",
    "x_data"
   ]
  },
  {
   "cell_type": "code",
   "execution_count": null,
   "id": "164e2c21",
   "metadata": {},
   "outputs": [],
   "source": [
    "import statistics as stat\n",
    "frequency=32\n",
    "frame_size=4*frequency\n",
    "overlapping=2*frequency"
   ]
  },
  {
   "cell_type": "code",
   "execution_count": null,
   "id": "64f6e18c",
   "metadata": {},
   "outputs": [],
   "source": [
    "data_frame=[]\n",
    "label_frame=[]\n",
    "for i in range(0,(len(x_data)-frame_size),overlapping):\n",
    "    x1=x_data['X'].values[i:i+frame_size]\n",
    "    x2=x_data['Y'].values[i:i+frame_size]\n",
    "    x3=x_data['Z'].values[i:i+frame_size]\n",
    "    \n",
    "    label=stat.mode(y_data[i:i+frame_size])\n",
    "    arr=np.asarray([x1,x2,x3]).reshape(frame_size,3)\n",
    "    data_frame.append(arr)\n",
    "    label_frame.append(label)"
   ]
  },
  {
   "cell_type": "code",
   "execution_count": null,
   "id": "12e5b743",
   "metadata": {},
   "outputs": [],
   "source": [
    "x_data=np.array(data_frame)\n",
    "x_data.shape"
   ]
  },
  {
   "cell_type": "code",
   "execution_count": null,
   "id": "9d493173",
   "metadata": {},
   "outputs": [],
   "source": [
    "y_data=np.asarray(label_frame)\n",
    "y_data.shape"
   ]
  },
  {
   "cell_type": "code",
   "execution_count": null,
   "id": "034cc99f",
   "metadata": {},
   "outputs": [],
   "source": []
  },
  {
   "cell_type": "code",
   "execution_count": null,
   "id": "8c207ce7",
   "metadata": {},
   "outputs": [],
   "source": [
    "from sklearn.model_selection import train_test_split\n",
    "x_train,x_test,y_train,y_test=train_test_split(x_data,y_data,test_size=0.3,random_state=42,shuffle=True)\n",
    "print(x_train.shape)\n",
    "print(x_test.shape)\n",
    "print(y_train.shape)\n",
    "print(y_test.shape)"
   ]
  },
  {
   "cell_type": "code",
   "execution_count": null,
   "id": "b94094db",
   "metadata": {},
   "outputs": [],
   "source": []
  },
  {
   "cell_type": "code",
   "execution_count": null,
   "id": "204a32af",
   "metadata": {},
   "outputs": [],
   "source": [
    "import pywt"
   ]
  },
  {
   "cell_type": "code",
   "execution_count": null,
   "id": "c9cd3037",
   "metadata": {},
   "outputs": [],
   "source": [
    "x_train=np.ndarray(shape=(x_train.shape[0],128,128,3))\n",
    "scale = range(1,129)\n",
    "wavelet = 'gaus5'\n",
    "for i in range(x_train.shape[0]):   \n",
    "    for j in range(0,3):\n",
    "        sig=x_train[i,:,j]\n",
    "        coeff,freq=pywt.cwt(sig,scale,wavelet)\n",
    "        coeff_=coeff[:,:128]\n",
    "        x_train[i,:,:,j]=coeff_"
   ]
  },
  {
   "cell_type": "code",
   "execution_count": null,
   "id": "008d8969",
   "metadata": {},
   "outputs": [],
   "source": []
  },
  {
   "cell_type": "code",
   "execution_count": null,
   "id": "d7aecf39",
   "metadata": {},
   "outputs": [],
   "source": [
    "x_test=np.ndarray(shape=(x_test.shape[0],128,128,3))\n",
    "scale = range(1,129)\n",
    "wavelet = 'gaus5'\n",
    "for i in range(x_test.shape[0]):   \n",
    "    for j in range(0,3):\n",
    "        sig=x_test[i,:,j]\n",
    "        coeff,freq=pywt.cwt(sig,scale,wavelet)\n",
    "        coeff_=coeff[:,:128]\n",
    "        x_test[i,:,:,j]=coeff_"
   ]
  },
  {
   "cell_type": "code",
   "execution_count": null,
   "id": "feaf3ab7",
   "metadata": {},
   "outputs": [],
   "source": []
  },
  {
   "cell_type": "code",
   "execution_count": null,
   "id": "2d0a92d2",
   "metadata": {},
   "outputs": [],
   "source": [
    "np.savez('...\\\\HAR\\\\Preprocessed Data\\\\Train.npz',x_train=x_train,y_train=y_train)\n",
    "np.savez('...\\\\HAR\\\\Preprocessed Data\\\\Test.npz',x_test=x_test,y_test=y_test)"
   ]
  }
 ],
 "metadata": {
  "kernelspec": {
   "display_name": "Python 3 (ipykernel)",
   "language": "python",
   "name": "python3"
  },
  "language_info": {
   "codemirror_mode": {
    "name": "ipython",
    "version": 3
   },
   "file_extension": ".py",
   "mimetype": "text/x-python",
   "name": "python",
   "nbconvert_exporter": "python",
   "pygments_lexer": "ipython3",
   "version": "3.8.8"
  }
 },
 "nbformat": 4,
 "nbformat_minor": 5
}
