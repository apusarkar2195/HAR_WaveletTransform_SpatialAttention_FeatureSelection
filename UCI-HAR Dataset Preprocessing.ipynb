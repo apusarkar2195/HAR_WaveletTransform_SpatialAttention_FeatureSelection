{
 "cells": [
  {
   "cell_type": "code",
   "execution_count": null,
   "id": "5cee3c40",
   "metadata": {},
   "outputs": [],
   "source": [
    "import os\n",
    "import pandas as pd\n",
    "import numpy as np\n",
    "import pywt"
   ]
  },
  {
   "cell_type": "code",
   "execution_count": null,
   "id": "11726c26",
   "metadata": {},
   "outputs": [],
   "source": [
    "X_train_path='C:\\\\Users\\\\User\\\\Desktop\\\\Human activity recognitiion\\\\UCI HAR Dataset\\\\train\\\\Inertial Signals'\n",
    "X_test_path='C:\\\\Users\\\\User\\\\Desktop\\\\Human activity recognitiion\\\\UCI HAR Dataset\\\\test\\\\Inertial Signals'\n",
    "\n",
    "Y_train_path='C:\\\\Users\\\\User\\\\Desktop\\\\Human activity recognitiion\\\\UCI HAR Dataset\\\\train\\\\y_train.txt'\n",
    "Y_test_path='C:\\\\Users\\\\User\\\\Desktop\\\\Human activity recognitiion\\\\UCI HAR Dataset\\\\test\\\\y_test.txt'"
   ]
  },
  {
   "cell_type": "code",
   "execution_count": null,
   "id": "26486fb5",
   "metadata": {},
   "outputs": [],
   "source": [
    "train_files=os.listdir(X_train_path)\n",
    "train_files=train_files[:3]\n",
    "train_files"
   ]
  },
  {
   "cell_type": "code",
   "execution_count": null,
   "id": "a64819ad",
   "metadata": {},
   "outputs": [],
   "source": [
    "def read_file(file):\n",
    "    data=pd.read_csv(file,delim_whitespace=True,header=None)\n",
    "    return data\n",
    "\n",
    "def load_X_data(path):\n",
    "    data=[]\n",
    "    files=os.listdir(path)\n",
    "    for file in files[:3]:\n",
    "        temp=read_file(os.path.join(path,file))\n",
    "        data.append(temp)\n",
    "        \n",
    "    return np.transpose(data,(1,2,0))    "
   ]
  },
  {
   "cell_type": "code",
   "execution_count": null,
   "id": "fc48cca9",
   "metadata": {},
   "outputs": [],
   "source": [
    "X_train=load_X_data(X_train_path)\n",
    "X_test=load_X_data(X_test_path)"
   ]
  },
  {
   "cell_type": "code",
   "execution_count": null,
   "id": "af4d861d",
   "metadata": {},
   "outputs": [],
   "source": [
    "print(X_train.shape)\n",
    "print(X_test.shape)"
   ]
  },
  {
   "cell_type": "code",
   "execution_count": null,
   "id": "1be7e98d",
   "metadata": {},
   "outputs": [],
   "source": []
  },
  {
   "cell_type": "code",
   "execution_count": null,
   "id": "42d62d9c",
   "metadata": {},
   "outputs": [],
   "source": [
    "def load_Y_data(path):\n",
    "    temp=read_file(path)\n",
    "    \n",
    "    return temp"
   ]
  },
  {
   "cell_type": "code",
   "execution_count": null,
   "id": "bd61d7a3",
   "metadata": {},
   "outputs": [],
   "source": [
    "Y_train=load_Y_data(Y_train_path)\n",
    "Y_test=load_Y_data(Y_test_path)"
   ]
  },
  {
   "cell_type": "code",
   "execution_count": null,
   "id": "03309a28",
   "metadata": {},
   "outputs": [],
   "source": [
    "Y_train=Y_train[0].replace({1:0,2:1,3:2,4:3,5:4,6:5})\n",
    "Y_train"
   ]
  },
  {
   "cell_type": "code",
   "execution_count": null,
   "id": "5b2d91a4",
   "metadata": {},
   "outputs": [],
   "source": [
    "Y_train=np.array(Y_train)\n",
    "Y_train=Y_train.reshape(-1,)\n",
    "Y_train.shape"
   ]
  },
  {
   "cell_type": "code",
   "execution_count": null,
   "id": "3b81c02e",
   "metadata": {},
   "outputs": [],
   "source": [
    "Y_test=Y_test[0].replace({1:0,2:1,3:2,4:3,5:4,6:5})\n",
    "Y_test=np.array(Y_test)\n",
    "Y_test=Y_test.reshape(-1,)\n",
    "Y_test.shape"
   ]
  },
  {
   "cell_type": "code",
   "execution_count": null,
   "id": "96ffed7e",
   "metadata": {},
   "outputs": [],
   "source": []
  },
  {
   "cell_type": "code",
   "execution_count": null,
   "id": "12ec89a7",
   "metadata": {},
   "outputs": [],
   "source": [
    "import pywt"
   ]
  },
  {
   "cell_type": "code",
   "execution_count": null,
   "id": "a61e0dce",
   "metadata": {},
   "outputs": [],
   "source": [
    "x_train=np.ndarray(shape=(x_train.shape[0],128,128,9))\n",
    "scale = range(1,129)\n",
    "wavelet = 'gaus5'\n",
    "for i in range(x_train.shape[0]):   \n",
    "    for j in range(0,9):\n",
    "        sig=x_train[i,:,j]\n",
    "        coeff,freq=pywt.cwt(sig,scale,wavelet)\n",
    "        coeff_=coeff[:,:128]\n",
    "        x_train[i,:,:,j]=coeff_"
   ]
  },
  {
   "cell_type": "code",
   "execution_count": null,
   "id": "5a9f4261",
   "metadata": {},
   "outputs": [],
   "source": [
    "x_test=np.ndarray(shape=(x_test.shape[0],128,128,9))\n",
    "scale = range(1,129)\n",
    "wavelet = 'gaus5'\n",
    "for i in range(x_test.shape[0]):   \n",
    "    for j in range(0,9):\n",
    "        sig=x_test[i,:,j]\n",
    "        coeff,freq=pywt.cwt(sig,scale,wavelet)\n",
    "        coeff_=coeff[:,:128]\n",
    "        x_test[i,:,:,j]=coeff_"
   ]
  },
  {
   "cell_type": "code",
   "execution_count": null,
   "id": "384f028b",
   "metadata": {},
   "outputs": [],
   "source": []
  },
  {
   "cell_type": "code",
   "execution_count": null,
   "id": "c4bcfa3d",
   "metadata": {},
   "outputs": [],
   "source": [
    "np.savez('...\\\\HAR\\\\Preprocessed Data\\\\Train.npz',x_train=x_train,y_train=y_train)\n",
    "np.savez('...\\\\HAR\\\\Preprocessed Data\\\\Test.npz',x_test=x_test,y_test=y_test)"
   ]
  },
  {
   "cell_type": "code",
   "execution_count": null,
   "id": "c77fc080",
   "metadata": {},
   "outputs": [],
   "source": []
  }
 ],
 "metadata": {
  "kernelspec": {
   "display_name": "Python 3 (ipykernel)",
   "language": "python",
   "name": "python3"
  },
  "language_info": {
   "codemirror_mode": {
    "name": "ipython",
    "version": 3
   },
   "file_extension": ".py",
   "mimetype": "text/x-python",
   "name": "python",
   "nbconvert_exporter": "python",
   "pygments_lexer": "ipython3",
   "version": "3.8.8"
  }
 },
 "nbformat": 4,
 "nbformat_minor": 5
}
