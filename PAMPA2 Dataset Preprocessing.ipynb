{
 "cells": [
  {
   "cell_type": "code",
   "execution_count": null,
   "id": "8311c3be",
   "metadata": {},
   "outputs": [],
   "source": [
    "import numpy as np\n",
    "import os \n",
    "import pandas as pd\n",
    "from sklearn.datasets import load_files\n",
    "import seaborn as sns\n",
    "import matplotlib.pyplot as plt"
   ]
  },
  {
   "cell_type": "code",
   "execution_count": null,
   "id": "22d85960",
   "metadata": {},
   "outputs": [],
   "source": []
  },
  {
   "cell_type": "code",
   "execution_count": null,
   "id": "9fcf235e",
   "metadata": {},
   "outputs": [],
   "source": [
    "list_of_files = ['PAMAP2_Dataset/Protocol/subject101.dat',\n",
    "                 'PAMAP2_Dataset/Protocol/subject102.dat',\n",
    "                 'PAMAP2_Dataset/Protocol/subject103.dat',\n",
    "                 'PAMAP2_Dataset/Protocol/subject104.dat',\n",
    "                 'PAMAP2_Dataset/Protocol/subject105.dat',\n",
    "                 'PAMAP2_Dataset/Protocol/subject106.dat',\n",
    "                 'PAMAP2_Dataset/Protocol/subject107.dat',\n",
    "                 'PAMAP2_Dataset/Protocol/subject108.dat',\n",
    "                 'PAMAP2_Dataset/Protocol/subject109.dat' ]\n",
    "\n",
    "subjectID = [1,2,3,4,5,6,7,8,9]\n",
    "\n",
    "activityIDdict = {0: 'transient',\n",
    "              1: 'lying',\n",
    "              2: 'sitting',\n",
    "              3: 'standing',\n",
    "              4: 'walking',\n",
    "              5: 'running',\n",
    "              6: 'cycling',\n",
    "              7: 'Nordic_walking',\n",
    "              9: 'watching_TV',\n",
    "              10: 'computer_work',\n",
    "              11: 'car driving',\n",
    "              12: 'ascending_stairs',\n",
    "              13: 'descending_stairs',\n",
    "              16: 'vacuum_cleaning',\n",
    "              17: 'ironing',\n",
    "              18: 'folding_laundry',\n",
    "              19: 'house_cleaning',\n",
    "              20: 'playing_soccer',\n",
    "              24: 'rope_jumping' }\n",
    "\n",
    "col = [\"timestamp\", \"activityID\",\"heartrate\"]\n",
    "\n",
    "hand = ['handTemperature', \n",
    "           'handAcc16_1', 'handAcc16_2', 'handAcc16_3', \n",
    "           'handAcc6_1', 'handAcc6_2', 'handAcc6_3', \n",
    "           'handGyro1', 'handGyro2', 'handGyro3', \n",
    "           'handMagne1', 'handMagne2', 'handMagne3',\n",
    "           'handOrientation1', 'handOrientation2', 'handOrientation3', 'handOrientation4']\n",
    "\n",
    "chest = ['chestTemperature', \n",
    "           'chestAcc16_1', 'chestAcc16_2', 'chestAcc16_3', \n",
    "           'chestAcc6_1', 'chestAcc6_2', 'chestAcc6_3', \n",
    "           'chestGyro1', 'chestGyro2', 'chestGyro3', \n",
    "           'chestMagne1', 'chestMagne2', 'chestMagne3',\n",
    "           'chestOrientation1', 'chestOrientation2', 'chestOrientation3', 'chestOrientation4']\n",
    "\n",
    "ankle = ['ankleTemperature', \n",
    "           'ankleAcc16_1', 'ankleAcc16_2', 'ankleAcc16_3', \n",
    "           'ankleAcc6_1', 'ankleAcc6_2', 'ankleAcc6_3', \n",
    "           'ankleGyro1', 'ankleGyro2', 'ankleGyro3', \n",
    "           'ankleMagne1', 'ankleMagne2', 'ankleMagne3',\n",
    "           'ankleOrientation1', 'ankleOrientation2', 'ankleOrientation3', 'ankleOrientation4']\n",
    "\n",
    "columns = col + hand + chest + ankle \n",
    "\n",
    "len(columns)"
   ]
  },
  {
   "cell_type": "code",
   "execution_count": null,
   "id": "e6e9daa9",
   "metadata": {},
   "outputs": [],
   "source": [
    "data = pd.DataFrame()\n",
    "for file in list_of_files:\n",
    "    table = pd.read_table(os.path.join(root_path,file), header=None, sep='\\s+')\n",
    "    table.columns = columns\n",
    "    table['subject_id'] = int(file[-5])\n",
    "    data = data.append(table, ignore_index=True)\n",
    "\n",
    "data.reset_index(drop=True, inplace=True)\n",
    "data.head()"
   ]
  },
  {
   "cell_type": "code",
   "execution_count": null,
   "id": "4d9c8525",
   "metadata": {},
   "outputs": [],
   "source": [
    "def data_Cleaning(data):\n",
    "        data = data.drop(['heartrate','handOrientation1', 'handOrientation2', 'handOrientation3', 'handOrientation4','handTemperature',\n",
    "                                             'chestOrientation1', 'chestOrientation2', 'chestOrientation3', 'chestOrientation4','chestTemperature',\n",
    "                                             'ankleOrientation1', 'ankleOrientation2', 'ankleOrientation3', 'ankleOrientation4','ankleTemperature'],\n",
    "                                             axis = 1)\n",
    "        data = data.drop(data[data.activityID == 0].index) \n",
    "        data = data.interpolate() \n",
    "        \n",
    "        return data"
   ]
  },
  {
   "cell_type": "code",
   "execution_count": null,
   "id": "20d45389",
   "metadata": {},
   "outputs": [],
   "source": [
    "clean_data = data_Cleaning(data)"
   ]
  },
  {
   "cell_type": "code",
   "execution_count": null,
   "id": "d7f03a97",
   "metadata": {},
   "outputs": [],
   "source": [
    "clean_data.reset_index(drop = True, inplace = True)\n",
    "clean_data.head(10)"
   ]
  },
  {
   "cell_type": "code",
   "execution_count": null,
   "id": "a1e769a1",
   "metadata": {},
   "outputs": [],
   "source": [
    "clean_data.info()"
   ]
  },
  {
   "cell_type": "code",
   "execution_count": null,
   "id": "085b66a2",
   "metadata": {},
   "outputs": [],
   "source": [
    "clean_data[~clean_data.applymap(np.isreal).all(1)]"
   ]
  },
  {
   "cell_type": "code",
   "execution_count": null,
   "id": "2fec70ce",
   "metadata": {},
   "outputs": [],
   "source": [
    "col=['timestamp','activityID','handAcc16_1','handAcc16_2','handAcc16_3','handGyro1','handGyro2','handGyro3',\n",
    "     'handMagne1', 'handMagne2', 'handMagne3','chestAcc16_1', 'chestAcc16_2', 'chestAcc16_3','chestGyro1', \n",
    "     'chestGyro2', 'chestGyro3', 'chestMagne1', 'chestMagne2', 'chestMagne3','ankleAcc16_1','ankleAcc16_2',\n",
    "     'ankleAcc16_3','ankleGyro1','ankleGyro2','ankleGyro3', 'ankleMagne1', 'ankleMagne2', 'ankleMagne3','subject_id']"
   ]
  },
  {
   "cell_type": "code",
   "execution_count": null,
   "id": "a009c7f5",
   "metadata": {},
   "outputs": [],
   "source": [
    "df=clean_data[col]\n",
    "df"
   ]
  },
  {
   "cell_type": "code",
   "execution_count": null,
   "id": "d794df10",
   "metadata": {},
   "outputs": [],
   "source": [
    "df.to_csv('...\\\\HAR\\\\PAMPA2\\\\Preprocessed Dataset\\\\PAMPA2_Dataset.csv')"
   ]
  },
  {
   "cell_type": "code",
   "execution_count": null,
   "id": "b66edb69",
   "metadata": {},
   "outputs": [],
   "source": [
    "activityIDdict = {#0: 'transient',\n",
    "              1: 'lying',\n",
    "              2: 'sitting',\n",
    "              3: 'standing',\n",
    "              4: 'walking',\n",
    "              5: 'running',\n",
    "              6: 'cycling',\n",
    "              7: 'Nordic_walking',\n",
    "              9: 'watching_TV',\n",
    "              10: 'computer_work',\n",
    "              11: 'car driving',\n",
    "              12: 'ascending_stairs',\n",
    "              13: 'descending_stairs',\n",
    "              16: 'vacuum_cleaning',\n",
    "              17: 'ironing',\n",
    "              18: 'folding_laundry',\n",
    "              19: 'house_cleaning',\n",
    "              20: 'playing_soccer',\n",
    "              24: 'rope_jumping' }"
   ]
  },
  {
   "cell_type": "code",
   "execution_count": null,
   "id": "63cfd06c",
   "metadata": {},
   "outputs": [],
   "source": [
    "data_frame=df.dropna()\n",
    "data_frame"
   ]
  },
  {
   "cell_type": "code",
   "execution_count": null,
   "id": "45dac381",
   "metadata": {},
   "outputs": [],
   "source": [
    "y_data=data_frame['activityID']\n",
    "y_data"
   ]
  },
  {
   "cell_type": "code",
   "execution_count": null,
   "id": "1617642f",
   "metadata": {},
   "outputs": [],
   "source": [
    "y_data=y_data.replace(activityIDdict)\n",
    "y_data"
   ]
  },
  {
   "cell_type": "code",
   "execution_count": null,
   "id": "882c4f49",
   "metadata": {},
   "outputs": [],
   "source": [
    "x_data=data_frame.drop(['timestamp','activityID','subject_id'],axis=1)\n",
    "x_data"
   ]
  },
  {
   "cell_type": "code",
   "execution_count": null,
   "id": "ca4a9e54",
   "metadata": {},
   "outputs": [],
   "source": [
    "from sklearn.preprocessing import MinMaxScaler\n",
    "scaler=MinMaxScaler()\n",
    "x_data=scaler.fit_transform(x_data)\n",
    "x_data.shape"
   ]
  },
  {
   "cell_type": "code",
   "execution_count": null,
   "id": "ccacf36d",
   "metadata": {},
   "outputs": [],
   "source": [
    "from sklearn.preprocessing import LabelEncoder\n",
    "\n",
    "encoder=LabelEncoder()\n",
    "y_data=encoder.fit_transform(y_data)\n",
    "encoder.classes_"
   ]
  },
  {
   "cell_type": "code",
   "execution_count": null,
   "id": "bd0a03fe",
   "metadata": {},
   "outputs": [],
   "source": []
  },
  {
   "cell_type": "code",
   "execution_count": null,
   "id": "c35e1b44",
   "metadata": {},
   "outputs": [],
   "source": [
    "columns=['handAcc16_1','handAcc16_2','handAcc16_3','handGyro1','handGyro2','handGyro3',\n",
    "     'handMagne1', 'handMagne2', 'handMagne3','chestAcc16_1', 'chestAcc16_2', 'chestAcc16_3','chestGyro1', \n",
    "     'chestGyro2', 'chestGyro3', 'chestMagne1', 'chestMagne2', 'chestMagne3','ankleAcc16_1','ankleAcc16_2',\n",
    "     'ankleAcc16_3','ankleGyro1','ankleGyro2','ankleGyro3', 'ankleMagne1', 'ankleMagne2', 'ankleMagne3']\n",
    "x_data=pd.DataFrame(x_data,columns=columns)\n",
    "x_data"
   ]
  },
  {
   "cell_type": "code",
   "execution_count": null,
   "id": "6fbb17a5",
   "metadata": {},
   "outputs": [],
   "source": []
  },
  {
   "cell_type": "code",
   "execution_count": null,
   "id": "6d192e8b",
   "metadata": {},
   "outputs": [],
   "source": [
    "import statistics as stat\n",
    "frequency=32\n",
    "frame_size=4*frequency\n",
    "overlapping=2*frequency"
   ]
  },
  {
   "cell_type": "code",
   "execution_count": null,
   "id": "59578f0a",
   "metadata": {},
   "outputs": [],
   "source": [
    "data_frame=[]\n",
    "label_frame=[]\n",
    "for i in range(0,(len(x_data)-frame_size),overlapping):\n",
    "    x1=x_data['handAcc16_1'].values[i:i+frame_size]\n",
    "    x2=x_data['handAcc16_2'].values[i:i+frame_size]\n",
    "    x3=x_data['handAcc16_3'].values[i:i+frame_size]\n",
    "    x4=x_data['handGyro1'].values[i:i+frame_size]\n",
    "    x5=x_data['handGyro2'].values[i:i+frame_size]\n",
    "    x6=x_data['handGyro3'].values[i:i+frame_size]\n",
    "    x7=x_data['handMagne1'].values[i:i+frame_size]\n",
    "    x8=x_data['handMagne2'].values[i:i+frame_size]\n",
    "    x9=x_data['handMagne3'].values[i:i+frame_size]\n",
    "    \n",
    "    x10=x_data['chestAcc16_1'].values[i:i+frame_size]\n",
    "    x11=x_data['chestAcc16_2'].values[i:i+frame_size]\n",
    "    x12=x_data['chestAcc16_3'].values[i:i+frame_size]\n",
    "    x13=x_data['chestGyro1'].values[i:i+frame_size]\n",
    "    x14=x_data['chestGyro2'].values[i:i+frame_size]\n",
    "    x15=x_data['chestGyro3'].values[i:i+frame_size]\n",
    "    x16=x_data['chestMagne1'].values[i:i+frame_size]\n",
    "    x17=x_data['chestMagne2'].values[i:i+frame_size]\n",
    "    x18=x_data['chestMagne3'].values[i:i+frame_size]\n",
    "    \n",
    "    x19=x_data['ankleAcc16_1'].values[i:i+frame_size]\n",
    "    x20=x_data['ankleAcc16_2'].values[i:i+frame_size]\n",
    "    x21=x_data['ankleAcc16_3'].values[i:i+frame_size]\n",
    "    x22=x_data['ankleGyro1'].values[i:i+frame_size]\n",
    "    x23=x_data['ankleGyro2'].values[i:i+frame_size]\n",
    "    x24=x_data['ankleGyro3'].values[i:i+frame_size]\n",
    "    x25=x_data['ankleMagne1'].values[i:i+frame_size]\n",
    "    x26=x_data['ankleMagne2'].values[i:i+frame_size]\n",
    "    x27=x_data['ankleMagne3'].values[i:i+frame_size]\n",
    "    \n",
    "    label=stat.mode(y_data[i:i+frame_size])\n",
    "    arr=np.asarray([x1,x2,x3,x4,x5,x6,x7,x8,x9,x10,x11,x12,x13,x14,x15,x16,x17,x18,x19,x20,x21,x22,x23,x24,x25,x26,x27]).reshape(frame_size,27)\n",
    "    data_frame.append(arr)\n",
    "    label_frame.append(label)"
   ]
  },
  {
   "cell_type": "code",
   "execution_count": null,
   "id": "24ee115f",
   "metadata": {},
   "outputs": [],
   "source": [
    "x_data=np.array(data_frame)\n",
    "x_data.shape"
   ]
  },
  {
   "cell_type": "code",
   "execution_count": null,
   "id": "36e3f844",
   "metadata": {},
   "outputs": [],
   "source": [
    "y_data=np.asarray(label_frame)\n",
    "y_data.shape"
   ]
  },
  {
   "cell_type": "code",
   "execution_count": null,
   "id": "e3b889a3",
   "metadata": {},
   "outputs": [],
   "source": [
    "from sklearn.model_selection import train_test_split\n",
    "x_train,x_test,y_train,y_test=train_test_split(x_data,y_data,test_size=0.3,random_state=42)\n",
    "print(x_train.shape)\n",
    "print(x_test.shape)\n",
    "print(y_train.shape)\n",
    "print(y_test.shape)"
   ]
  },
  {
   "cell_type": "code",
   "execution_count": null,
   "id": "9ce13200",
   "metadata": {},
   "outputs": [],
   "source": [
    "import pywt"
   ]
  },
  {
   "cell_type": "code",
   "execution_count": null,
   "id": "deda02bc",
   "metadata": {},
   "outputs": [],
   "source": [
    "x_train_coff=np.ndarray(shape=(x_train.shape[0],128,128,27))\n",
    "scale = range(1,129)\n",
    "wavelet = 'gaus5'\n",
    "for i in range(x_train.shape[0]):   \n",
    "    for j in range(0,27):\n",
    "        sig=x_train[i,:,j]\n",
    "        coeff,freq=pywt.cwt(sig,scale,wavelet)\n",
    "        coeff_=coeff[:,:128]\n",
    "        x_train_coff[i,:,:,j]=coeff_"
   ]
  },
  {
   "cell_type": "code",
   "execution_count": null,
   "id": "9bbf775e",
   "metadata": {},
   "outputs": [],
   "source": [
    "x_test_coff=np.ndarray(shape=(x_test.shape[0],128,128,27))\n",
    "scale = range(1,129)\n",
    "wavelet = 'gaus5'\n",
    "for i in range(x_test.shape[0]):   \n",
    "    for j in range(0,27):\n",
    "        sig=x_test[i,:,j]\n",
    "        coeff,freq=pywt.cwt(sig,scale,wavelet)\n",
    "        coeff_=coeff[:,:128]\n",
    "        x_test_coff[i,:,:,j]=coeff_"
   ]
  },
  {
   "cell_type": "code",
   "execution_count": null,
   "id": "4a593f6c",
   "metadata": {},
   "outputs": [],
   "source": []
  },
  {
   "cell_type": "code",
   "execution_count": null,
   "id": "5e0aae1d",
   "metadata": {},
   "outputs": [],
   "source": [
    "np.savez('...\\\\HAR\\\\Preprocessed Data\\\\Train.npz',x_train=x_train,y_train=y_train)\n",
    "np.savez('...\\\\HAR\\\\Preprocessed Data\\\\Test.npz',x_test=x_test,y_test=y_test)"
   ]
  }
 ],
 "metadata": {
  "kernelspec": {
   "display_name": "Python 3 (ipykernel)",
   "language": "python",
   "name": "python3"
  },
  "language_info": {
   "codemirror_mode": {
    "name": "ipython",
    "version": 3
   },
   "file_extension": ".py",
   "mimetype": "text/x-python",
   "name": "python",
   "nbconvert_exporter": "python",
   "pygments_lexer": "ipython3",
   "version": "3.8.8"
  }
 },
 "nbformat": 4,
 "nbformat_minor": 5
}
