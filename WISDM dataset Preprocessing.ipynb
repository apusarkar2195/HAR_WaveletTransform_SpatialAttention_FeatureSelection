{
 "cells": [
  {
   "cell_type": "code",
   "execution_count": null,
   "id": "583203e5",
   "metadata": {},
   "outputs": [],
   "source": [
    "import os\n",
    "import pandas as pd\n",
    "import numpy as np\n",
    "import statistics as stat"
   ]
  },
  {
   "cell_type": "code",
   "execution_count": null,
   "id": "43dd4b30",
   "metadata": {},
   "outputs": [],
   "source": [
    "path='E:\\\\HAR Dataset\\\\WISDM_ar_v1.1'"
   ]
  },
  {
   "cell_type": "code",
   "execution_count": null,
   "id": "28e0e5e2",
   "metadata": {},
   "outputs": [],
   "source": [
    "os.listdir(path)"
   ]
  },
  {
   "cell_type": "code",
   "execution_count": null,
   "id": "6d7c5017",
   "metadata": {},
   "outputs": [],
   "source": [
    "data_path=path+'\\\\WISDM_ar_v1.1_raw.txt'"
   ]
  },
  {
   "cell_type": "code",
   "execution_count": null,
   "id": "e30c96cc",
   "metadata": {},
   "outputs": [],
   "source": [
    "file=open(data_path,'r')"
   ]
  },
  {
   "cell_type": "code",
   "execution_count": null,
   "id": "070f27c5",
   "metadata": {},
   "outputs": [],
   "source": [
    "data_list=[]\n",
    "for line in file.readlines():\n",
    "    temp=line.split(';')[0].split(',')\n",
    "    \n",
    "    data_list.append(temp)"
   ]
  },
  {
   "cell_type": "code",
   "execution_count": null,
   "id": "ef78cf00",
   "metadata": {},
   "outputs": [],
   "source": [
    "for item in data_list:\n",
    "    if len(item)==7:\n",
    "        print(item)"
   ]
  },
  {
   "cell_type": "code",
   "execution_count": null,
   "id": "dbec5881",
   "metadata": {},
   "outputs": [],
   "source": [
    "for item in data_list:\n",
    "    if item[-1]=='':\n",
    "        print(item)"
   ]
  },
  {
   "cell_type": "code",
   "execution_count": null,
   "id": "9d4b4374",
   "metadata": {},
   "outputs": [],
   "source": [
    "for i in range(len(data_list)):\n",
    "    if len(data_list[i])==7:\n",
    "        data_list[i]=data_list[i][:-1]"
   ]
  },
  {
   "cell_type": "code",
   "execution_count": null,
   "id": "4ef49c1f",
   "metadata": {},
   "outputs": [],
   "source": [
    "len(data_list)"
   ]
  },
  {
   "cell_type": "code",
   "execution_count": null,
   "id": "126394eb",
   "metadata": {},
   "outputs": [],
   "source": [
    "df=pd.DataFrame(data_list,columns=['id','activity','time_stamp','x','y','z'])\n",
    "df"
   ]
  },
  {
   "cell_type": "code",
   "execution_count": null,
   "id": "571d6826",
   "metadata": {},
   "outputs": [],
   "source": [
    "df.info()"
   ]
  },
  {
   "cell_type": "code",
   "execution_count": null,
   "id": "6f38ba81",
   "metadata": {},
   "outputs": [],
   "source": [
    "data=df.dropna()"
   ]
  },
  {
   "cell_type": "code",
   "execution_count": null,
   "id": "ab8f9c1c",
   "metadata": {},
   "outputs": [],
   "source": [
    "index=data[(data['z']=='\\n')].index\n",
    "index"
   ]
  },
  {
   "cell_type": "code",
   "execution_count": null,
   "id": "a7ec9618",
   "metadata": {},
   "outputs": [],
   "source": [
    "x=(data[(data['activity']=='Walking')])\n",
    "stat.mode(x['z'])"
   ]
  },
  {
   "cell_type": "code",
   "execution_count": null,
   "id": "6294c214",
   "metadata": {},
   "outputs": [],
   "source": [
    "data['z'].replace('\\n','-0.99',inplace=True)"
   ]
  },
  {
   "cell_type": "code",
   "execution_count": null,
   "id": "be31c65a",
   "metadata": {},
   "outputs": [],
   "source": [
    "index=data[(data['z']=='\\n')].index\n",
    "index"
   ]
  },
  {
   "cell_type": "code",
   "execution_count": null,
   "id": "1fe0b6ec",
   "metadata": {},
   "outputs": [],
   "source": [
    "data['z'][index]=stat.mode(x['z'])"
   ]
  },
  {
   "cell_type": "code",
   "execution_count": null,
   "id": "cc307ce2",
   "metadata": {},
   "outputs": [],
   "source": [
    "index=data[(data['z']=='\\n')].index\n",
    "index"
   ]
  },
  {
   "cell_type": "code",
   "execution_count": null,
   "id": "2479afdd",
   "metadata": {},
   "outputs": [],
   "source": [
    "data['x']=data['x'].astype('float64')\n",
    "data['y']=data['y'].astype('float64')\n",
    "data['z']=data['z'].astype('float64')"
   ]
  },
  {
   "cell_type": "code",
   "execution_count": null,
   "id": "ebf3ad28",
   "metadata": {},
   "outputs": [],
   "source": [
    "data['activity'].value_counts()"
   ]
  },
  {
   "cell_type": "code",
   "execution_count": null,
   "id": "3cce7b39",
   "metadata": {},
   "outputs": [],
   "source": [
    "activity=data['activity'].unique()\n",
    "activity"
   ]
  },
  {
   "cell_type": "code",
   "execution_count": null,
   "id": "5c7b8d05",
   "metadata": {},
   "outputs": [],
   "source": [
    "import matplotlib.pyplot as plt"
   ]
  },
  {
   "cell_type": "code",
   "execution_count": null,
   "id": "138b4128",
   "metadata": {},
   "outputs": [],
   "source": [
    "def plot(ax,x,y,title):\n",
    "    ax.plot(x,y,'r')\n",
    "    ax.set_title(title)\n",
    "    ax.xaxis.set_visible(False)\n",
    "    ax.set_ylim([min(y) - np.std(y), max(y) + np.std(y)])\n",
    "    ax.set_xlim([min(x), max(x)])\n",
    "    ax.grid(True)\n",
    "    \n",
    "def plot_data(activity,data):\n",
    "    fig,axes=plt.subplots(3,figsize=(15, 7), sharex=True)\n",
    "    fig.suptitle(activity)\n",
    "    plot(axes[0],data['time_stamp'],data['x'],'X-Axis')\n",
    "    plot(axes[1],data['time_stamp'],data['y'],'Y-Axis')\n",
    "    plot(axes[2],data['time_stamp'],data['z'],'Z-Axis')\n",
    "    plt.show()    "
   ]
  },
  {
   "cell_type": "code",
   "execution_count": null,
   "id": "33c41ace",
   "metadata": {},
   "outputs": [],
   "source": [
    "for item in activity:\n",
    "    d=data[(data['activity']==item)][:200]\n",
    "    plot_data(item,d)"
   ]
  },
  {
   "cell_type": "code",
   "execution_count": null,
   "id": "2331c589",
   "metadata": {},
   "outputs": [],
   "source": [
    "data['activity'].value_counts()"
   ]
  },
  {
   "cell_type": "code",
   "execution_count": null,
   "id": "617309fd",
   "metadata": {},
   "outputs": [],
   "source": [
    "Walking=data[(data['activity']=='Walking')].iloc[:48395]\n",
    "Jogging=data[(data['activity']=='Jogging')].iloc[:48395]\n",
    "Upstairs=data[(data['activity']=='Upstairs')].iloc[:48395]\n",
    "Downstairs=data[(data['activity']=='Downstairs')].iloc[:48395]\n",
    "Sitting=data[(data['activity']=='Sitting')].iloc[:48395]\n",
    "Standing=data[(data['activity']=='Standing')].iloc[:48395]"
   ]
  },
  {
   "cell_type": "code",
   "execution_count": null,
   "id": "cb20e4d6",
   "metadata": {},
   "outputs": [],
   "source": [
    "balance_data=pd.DataFrame()\n",
    "balance_data=balance_data.append([Jogging,Walking,Upstairs,Downstairs,Sitting,Standing])"
   ]
  },
  {
   "cell_type": "code",
   "execution_count": null,
   "id": "84c83af2",
   "metadata": {},
   "outputs": [],
   "source": [
    "data_set=balance_data.drop(['id','time_stamp'],axis=1)\n",
    "data_set"
   ]
  },
  {
   "cell_type": "code",
   "execution_count": null,
   "id": "1421fbfd",
   "metadata": {},
   "outputs": [],
   "source": [
    "from sklearn.preprocessing import LabelEncoder\n",
    "encoder=LabelEncoder()\n",
    "data_set['activity']=encoder.fit_transform(data_set['activity'])\n",
    "encoder.classes_"
   ]
  },
  {
   "cell_type": "code",
   "execution_count": null,
   "id": "1b36268c",
   "metadata": {},
   "outputs": [],
   "source": [
    "x_data=data_set[['x','y','z']]\n",
    "y_data=data_set['activity']"
   ]
  },
  {
   "cell_type": "code",
   "execution_count": null,
   "id": "ba37cacd",
   "metadata": {},
   "outputs": [],
   "source": [
    "y_data=np.asarray(y_data)\n",
    "y_data=y_data.reshape(-1,)\n",
    "y_data"
   ]
  },
  {
   "cell_type": "code",
   "execution_count": null,
   "id": "0f0bd831",
   "metadata": {},
   "outputs": [],
   "source": [
    "from sklearn.preprocessing import StandardScaler\n",
    "scaler=StandardScaler()\n",
    "x_data=scaler.fit_transform(x_data)\n",
    "x_data"
   ]
  },
  {
   "cell_type": "code",
   "execution_count": null,
   "id": "57fe1eb7",
   "metadata": {},
   "outputs": [],
   "source": [
    "x_data=pd.DataFrame(x_data,columns=['x','y','z'])"
   ]
  },
  {
   "cell_type": "code",
   "execution_count": null,
   "id": "0f9f69f1",
   "metadata": {},
   "outputs": [],
   "source": [
    "frequency=20\n",
    "frame_size=4*frequency\n",
    "overlapping=2*frequency"
   ]
  },
  {
   "cell_type": "code",
   "execution_count": null,
   "id": "d8a495c5",
   "metadata": {},
   "outputs": [],
   "source": [
    "data_frame=[]\n",
    "label_frame=[]\n",
    "for i in range(0,(len(x_data)-frame_size),overlapping):\n",
    "    x=x_data['x'].values[i:i+frame_size]\n",
    "    y=x_data['y'].values[i:i+frame_size]\n",
    "    z=x_data['z'].values[i:i+frame_size]\n",
    "    \n",
    "    label=stat.mode(y_data[i:i+frame_size])\n",
    "    arr=np.asarray([x,y,z]).reshape(frame_size,3)\n",
    "    data_frame.append(arr)\n",
    "    label_frame.append(label)"
   ]
  },
  {
   "cell_type": "code",
   "execution_count": null,
   "id": "2b8abbbb",
   "metadata": {},
   "outputs": [],
   "source": [
    "x_data=np.asarray(data_frame)\n",
    "y_data=np.asarray(label_frame)"
   ]
  },
  {
   "cell_type": "code",
   "execution_count": null,
   "id": "ff0d3852",
   "metadata": {},
   "outputs": [],
   "source": [
    "from sklearn.model_selection import train_test_split\n",
    "x_train,x_test,y_train,y_test=train_test_split(x_data,y_data,test_size=0.3,random_state=42)\n",
    "print(x_train.shape)\n",
    "print(x_test.shape)\n",
    "print(y_train.shape)\n",
    "print(y_test.shape)"
   ]
  },
  {
   "cell_type": "code",
   "execution_count": null,
   "id": "c963dfb2",
   "metadata": {},
   "outputs": [],
   "source": []
  },
  {
   "cell_type": "code",
   "execution_count": null,
   "id": "66d4a493",
   "metadata": {},
   "outputs": [],
   "source": [
    "import pywt"
   ]
  },
  {
   "cell_type": "code",
   "execution_count": null,
   "id": "0fcc1f02",
   "metadata": {},
   "outputs": [],
   "source": [
    "x_train_coff=np.ndarray(shape=(x_train.shape[0],80,80,3))\n",
    "scale = range(1,81)\n",
    "wavelet = 'gaus5'\n",
    "for i in range(x_train.shape[0]):   \n",
    "    for j in range(0,3):\n",
    "        sig=x_train[i,:,j]\n",
    "        coeff,freq=pywt.cwt(sig,scale,wavelet)\n",
    "        coeff_=coeff[:,:80]\n",
    "        x_train_coff[i,:,:,j]=coeff_"
   ]
  },
  {
   "cell_type": "code",
   "execution_count": null,
   "id": "2c4378e5",
   "metadata": {},
   "outputs": [],
   "source": [
    "x_test_coff=np.ndarray(shape=(x_test.shape[0],80,80,3))\n",
    "scale = range(1,81)\n",
    "wavelet = 'gaus5'\n",
    "for i in range(x_test.shape[0]):   \n",
    "    for j in range(0,3):\n",
    "        sig=x_test[i,:,j]\n",
    "        coeff,freq=pywt.cwt(sig,scale,wavelet)\n",
    "        coeff_=coeff[:,:80]\n",
    "        x_test_coff[i,:,:,j]=coeff_"
   ]
  },
  {
   "cell_type": "code",
   "execution_count": null,
   "id": "8914d9f7",
   "metadata": {},
   "outputs": [],
   "source": []
  },
  {
   "cell_type": "code",
   "execution_count": null,
   "id": "dccc471f",
   "metadata": {},
   "outputs": [],
   "source": [
    "np.savez('...\\\\HAR\\\\Preprocessed Data\\\\Train.npz',x_train=x_train_coff,y_train=y_train)\n",
    "np.savez('...\\\\HAR\\\\Preprocessed Data\\\\Test.npz',x_test=x_test_coff,y_test=y_test)"
   ]
  },
  {
   "cell_type": "code",
   "execution_count": null,
   "id": "166a2214",
   "metadata": {},
   "outputs": [],
   "source": []
  }
 ],
 "metadata": {
  "kernelspec": {
   "display_name": "Python 3 (ipykernel)",
   "language": "python",
   "name": "python3"
  },
  "language_info": {
   "codemirror_mode": {
    "name": "ipython",
    "version": 3
   },
   "file_extension": ".py",
   "mimetype": "text/x-python",
   "name": "python",
   "nbconvert_exporter": "python",
   "pygments_lexer": "ipython3",
   "version": "3.8.8"
  }
 },
 "nbformat": 4,
 "nbformat_minor": 5
}
