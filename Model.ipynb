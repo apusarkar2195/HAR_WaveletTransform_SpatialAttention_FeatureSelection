{
 "cells": [
  {
   "cell_type": "code",
   "execution_count": null,
   "id": "c2e0aa1e",
   "metadata": {},
   "outputs": [],
   "source": [
    "import numpy as np\n",
    "import os \n",
    "import pandas as pd\n",
    "import matplotlib.pyplot as plt\n",
    "\n",
    "import tensorflow as tf\n",
    "from tensorflow.keras import layers\n",
    "from tensorflow.keras.models import Model, Sequential,load_model\n",
    "from tensorflow.keras.layers import Conv2D, Input, Dense, Flatten, MaxPooling2D, Dropout, AveragePooling2D, BatchNormalization\n",
    "from tensorflow.keras.callbacks import ModelCheckpoint"
   ]
  },
  {
   "cell_type": "code",
   "execution_count": null,
   "id": "b566c52b",
   "metadata": {},
   "outputs": [],
   "source": []
  },
  {
   "cell_type": "code",
   "execution_count": null,
   "id": "ed4679eb",
   "metadata": {},
   "outputs": [],
   "source": [
    "train_data=np.load('...\\\\HAR\\\\Preprocessed Data\\\\Train_Data.npz')\n",
    "train_data.files"
   ]
  },
  {
   "cell_type": "code",
   "execution_count": null,
   "id": "b2b7cb93",
   "metadata": {},
   "outputs": [],
   "source": [
    "x_train=train_data['x_train']\n",
    "y_train=train_data['y_train']\n",
    "print(x_train.shape)\n",
    "print(y_train.shape)"
   ]
  },
  {
   "cell_type": "code",
   "execution_count": null,
   "id": "789c972d",
   "metadata": {},
   "outputs": [],
   "source": []
  },
  {
   "cell_type": "code",
   "execution_count": null,
   "id": "14769147",
   "metadata": {},
   "outputs": [],
   "source": [
    "test_data=np.load('...\\\\HAR\\\\Preprocessed Data\\\\Test_Data.npz')\n",
    "test_data.files"
   ]
  },
  {
   "cell_type": "code",
   "execution_count": null,
   "id": "73b09d50",
   "metadata": {},
   "outputs": [],
   "source": [
    "x_test=test_data['x_test']\n",
    "y_test=test_data['y_test']\n",
    "print(x_test.shape)\n",
    "print(y_test.shape)"
   ]
  },
  {
   "cell_type": "code",
   "execution_count": null,
   "id": "396147a9",
   "metadata": {},
   "outputs": [],
   "source": []
  },
  {
   "cell_type": "markdown",
   "id": "716da372",
   "metadata": {},
   "source": [
    "# Spatial Attention Module (SAM)"
   ]
  },
  {
   "cell_type": "code",
   "execution_count": null,
   "id": "4a884993",
   "metadata": {},
   "outputs": [],
   "source": [
    "class Spatial_Attention_Block(layers.Layer):\n",
    "    def __init__(self,out_channel,kernel,**kwargs):\n",
    "        super(Spatial_Attention_Block,self).__init__(**kwargs)\n",
    "        \n",
    "        self.out_channel=out_channel\n",
    "        self.kernel=kernel\n",
    "        #1,16,32     1,3,3\n",
    "        self.conv_1=Conv2D(filters=self.out_channel[0],kernel_size=self.kernel[0])\n",
    "        self.conv_2=Conv2D(filters=self.out_channel[1],kernel_size=self.kernel[1],padding='same')\n",
    "        self.conv_3=Conv2D(filters=self.out_channel[2],kernel_size=self.kernel[2],padding='same')\n",
    "        \n",
    "    def call(self,images):\n",
    "        x=tf.nn.relu(self.conv_1(images))\n",
    "        #print(\"For 1st Attention conv-1 : \",x.shape)\n",
    "        x=tf.nn.relu(self.conv_2(x))\n",
    "        #print(\"For 1st Attention conv-2 : \",x.shape)\n",
    "        x=tf.nn.relu(self.conv_3(x))\n",
    "        #print(\"For 1st Attention conv-3 : \",x.shape)\n",
    "        \n",
    "        return (x+images)\n",
    "    \n",
    "    def get_config(self):\n",
    "        config = super(Spatial_Attention_Block,self).get_config()\n",
    "        config.update({\n",
    "            \"out_channel\": self.out_channel,\n",
    "            \"kernel\": self.kernel,\n",
    "             })\n",
    "        return config\n",
    "    \n",
    "    @classmethod\n",
    "    def from_config(cls, config):\n",
    "        return cls(**config)\n",
    "    "
   ]
  },
  {
   "cell_type": "code",
   "execution_count": null,
   "id": "092d4a77",
   "metadata": {},
   "outputs": [],
   "source": []
  },
  {
   "cell_type": "markdown",
   "id": "6232e22f",
   "metadata": {},
   "source": [
    "# Model"
   ]
  },
  {
   "cell_type": "code",
   "execution_count": null,
   "id": "c72c730c",
   "metadata": {},
   "outputs": [],
   "source": [
    "model=Sequential([\n",
    "    \n",
    "            Conv2D(filters=32,kernel_size=(3,3),input_shape=(128,128,6),activation='relu'),\n",
    "            Spatial_Attention_Block(out_channel=[1,16,32],kernel=[1,3,3]),\n",
    "            MaxPooling2D((2,2)),\n",
    "            Dropout(0.2),\n",
    "    \n",
    "            Conv2D(filters=64,kernel_size=(3,3),activation='relu'),\n",
    "            Spatial_Attention_Block(out_channel=[1,32,64],kernel=[1,3,3]),\n",
    "            MaxPooling2D((2,2)),\n",
    "            Dropout(0.2),\n",
    "    \n",
    "            Conv2D(filters=64,kernel_size=(3,3),activation='relu'),\n",
    "            Spatial_Attention_Block(out_channel=[1,32,64],kernel=[1,3,3]),\n",
    "            MaxPooling2D((2,2)),\n",
    "            Dropout(0.2),\n",
    "    \n",
    "            Conv2D(filters=128,kernel_size=(3,3),activation='relu'),\n",
    "            Spatial_Attention_Block(out_channel=[1,64,128],kernel=[1,3,3]),\n",
    "            MaxPooling2D((2,2)),\n",
    "            Dropout(0.2),\n",
    "    \n",
    "            Flatten(),\n",
    "            Dense(1024,activation='relu'),\n",
    "            Dropout(0.2),\n",
    "            Dense(6,activation='softmax')\n",
    "])\n",
    "\n",
    "model.summary()"
   ]
  },
  {
   "cell_type": "code",
   "execution_count": null,
   "id": "a5746d6e",
   "metadata": {},
   "outputs": [],
   "source": [
    "model.compile(loss=tf.keras.losses.sparse_categorical_crossentropy,\n",
    "              optimizer=tf.keras.optimizers.Adam(),\n",
    "              metrics=['accuracy'])"
   ]
  },
  {
   "cell_type": "code",
   "execution_count": null,
   "id": "cfd16c02",
   "metadata": {},
   "outputs": [],
   "source": [
    "filepath = '...\\\\HAR\\\\Model\\\\model-ep{epoch:03d}-val_loss{val_loss:.3f}-val_acc{val_accuracy:.3f}.h5'\n",
    "checkpoint = ModelCheckpoint(filepath, monitor='val_loss', verbose=2, save_best_only=True, mode='min')"
   ]
  },
  {
   "cell_type": "code",
   "execution_count": null,
   "id": "46b08b25",
   "metadata": {},
   "outputs": [],
   "source": [
    "history=model.fit( x_train,y_train,\n",
    "                   batch_size=32,\n",
    "                   epochs=150,\n",
    "                   shuffle=True,\n",
    "                  callbacks=[checkpoint],\n",
    "                   validation_data=(x_test,y_test) )"
   ]
  },
  {
   "cell_type": "code",
   "execution_count": null,
   "id": "47fc3790",
   "metadata": {},
   "outputs": [],
   "source": []
  },
  {
   "cell_type": "markdown",
   "id": "edeb9439",
   "metadata": {},
   "source": [
    "# Learning Graph"
   ]
  },
  {
   "cell_type": "code",
   "execution_count": null,
   "id": "ea56e1a0",
   "metadata": {},
   "outputs": [],
   "source": [
    "def plot_learning_curve(history,epochs):\n",
    "    epoch_range=range(1,epochs+1)\n",
    "    plt.plot(epoch_range,history.history['accuracy'])\n",
    "    plt.plot(epoch_range,history.history['val_accuracy'])\n",
    "    plt.title('Model Accuracy')\n",
    "    plt.xlabel('Epochs')\n",
    "    plt.ylabel('Accuracy')\n",
    "    plt.legend(['Train','Test'],loc='lower right')\n",
    "    plt.show()\n",
    "    \n",
    "    plt.plot(epoch_range,history.history['loss'])\n",
    "    plt.plot(epoch_range,history.history['val_loss'])\n",
    "    plt.title('Model Loss')\n",
    "    plt.xlabel('Epochs')\n",
    "    plt.ylabel('Loss')\n",
    "    plt.legend(['Train','Test'],loc='upper right')\n",
    "    plt.show()\n",
    "    \n",
    "plot_learning_curve(history,150)    "
   ]
  },
  {
   "cell_type": "code",
   "execution_count": null,
   "id": "b464e6a2",
   "metadata": {},
   "outputs": [],
   "source": []
  },
  {
   "cell_type": "markdown",
   "id": "963b4d10",
   "metadata": {},
   "source": [
    "# Extracting Features"
   ]
  },
  {
   "cell_type": "code",
   "execution_count": null,
   "id": "11c68a56",
   "metadata": {},
   "outputs": [],
   "source": [
    "model=load_model('...\\\\HAR\\\\Model\\\\model-ep086-val_loss0.064-val_acc0.990.h5',custom_objects={'Spatial_Attention_Block':Spatial_Attention_Block})"
   ]
  },
  {
   "cell_type": "code",
   "execution_count": null,
   "id": "812e1da8",
   "metadata": {},
   "outputs": [],
   "source": [
    "model.layers"
   ]
  },
  {
   "cell_type": "code",
   "execution_count": null,
   "id": "fe9cb7c1",
   "metadata": {},
   "outputs": [],
   "source": [
    "dense_layer=model.layers[17]\n",
    "dense_layer"
   ]
  },
  {
   "cell_type": "code",
   "execution_count": null,
   "id": "5befa68d",
   "metadata": {},
   "outputs": [],
   "source": [
    "from tensorflow.keras import backend"
   ]
  },
  {
   "cell_type": "code",
   "execution_count": null,
   "id": "f7fc3389",
   "metadata": {},
   "outputs": [],
   "source": [
    "feature_extractor=backend.function([model.input],[dense_layer.output])"
   ]
  },
  {
   "cell_type": "code",
   "execution_count": null,
   "id": "13c0b757",
   "metadata": {},
   "outputs": [],
   "source": [
    "train_features=feature_extractor(x_train)\n",
    "train_features=np.array(train_features[0])"
   ]
  },
  {
   "cell_type": "code",
   "execution_count": null,
   "id": "9c0b6b70",
   "metadata": {},
   "outputs": [],
   "source": [
    "test_features=feature_extractor(x_test)\n",
    "test_features=np.array(test_features[0])"
   ]
  },
  {
   "cell_type": "code",
   "execution_count": null,
   "id": "06da88f4",
   "metadata": {},
   "outputs": [],
   "source": []
  },
  {
   "cell_type": "markdown",
   "id": "bd2e5f74",
   "metadata": {},
   "source": [
    "# Classification Using KNN"
   ]
  },
  {
   "cell_type": "code",
   "execution_count": null,
   "id": "d237d4b3",
   "metadata": {},
   "outputs": [],
   "source": [
    "from sklearn.neighbors import KNeighborsClassifier\n",
    "from sklearn.metrics import classification_report\n",
    "classes_= ['bike', 'sit', 'stairsdown', 'stairsup', 'stand', 'walk']\n",
    "clf=KNeighborsClassifier(n_neighbors=5)\n",
    "clf.fit(train_features,y_train)\n",
    "y_pred = clf.predict(test_features)\n",
    "report=classification_report(y_test,y_pred,target_names=classes_)\n",
    "print(report)"
   ]
  },
  {
   "cell_type": "code",
   "execution_count": null,
   "id": "326608c2",
   "metadata": {},
   "outputs": [],
   "source": []
  },
  {
   "cell_type": "code",
   "execution_count": null,
   "id": "4d36a7fe",
   "metadata": {},
   "outputs": [],
   "source": []
  }
 ],
 "metadata": {
  "kernelspec": {
   "display_name": "Python 3 (ipykernel)",
   "language": "python",
   "name": "python3"
  },
  "language_info": {
   "codemirror_mode": {
    "name": "ipython",
    "version": 3
   },
   "file_extension": ".py",
   "mimetype": "text/x-python",
   "name": "python",
   "nbconvert_exporter": "python",
   "pygments_lexer": "ipython3",
   "version": "3.8.8"
  }
 },
 "nbformat": 4,
 "nbformat_minor": 5
}
