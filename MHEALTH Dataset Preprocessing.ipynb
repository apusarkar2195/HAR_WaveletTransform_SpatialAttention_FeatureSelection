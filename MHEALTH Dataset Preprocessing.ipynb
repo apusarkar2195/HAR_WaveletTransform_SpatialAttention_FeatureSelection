{
 "cells": [
  {
   "cell_type": "code",
   "execution_count": null,
   "id": "6be567d7",
   "metadata": {},
   "outputs": [],
   "source": [
    "import os\n",
    "import numpy as np\n",
    "import pandas as pd\n",
    "import matplotlib.pyplot as plt"
   ]
  },
  {
   "cell_type": "code",
   "execution_count": null,
   "id": "576331f4",
   "metadata": {},
   "outputs": [],
   "source": [
    "data_path=\"...\\\\HAR\\\\MHealth\\\\MHEALTHDATASET\""
   ]
  },
  {
   "cell_type": "code",
   "execution_count": null,
   "id": "9b899d17",
   "metadata": {},
   "outputs": [],
   "source": [
    "columns=['acc_chest_x','acc_chest_y','acc_chest_z','ecg_l1','ecg_l2','acc_left_ankle_x','acc_left_ankle_y','acc_left_ankle_z',\n",
    "         'gyro_left_ankle_x','gyro_left_ankle_y','gyro_left_ankle_z','mag_left_ankle_x','mag_left_ankle_y','mag_left_ankle_z',\n",
    "         'acc_rla_x','acc_rla_y','acc_rla_z','gryo_rla_x','gryo_rla_y','gryo_rla_z','mag_rla_x','mag_rla_y','mag_rla_z',\n",
    "         'activity']"
   ]
  },
  {
   "cell_type": "code",
   "execution_count": null,
   "id": "39561188",
   "metadata": {},
   "outputs": [],
   "source": [
    "len(columns)"
   ]
  },
  {
   "cell_type": "code",
   "execution_count": null,
   "id": "3ae5d64c",
   "metadata": {},
   "outputs": [],
   "source": [
    "activity={\n",
    "    0:'null',\n",
    "    1: 'Standing still', \n",
    "    2: 'Sitting and relaxing',\n",
    "    3: 'Lying down', \n",
    "    4: 'Walking',\n",
    "    5: 'Climbing stairs', \n",
    "    6: 'Waist bends forward',\n",
    "    7: 'Frontal elevation of arms',\n",
    "    8: 'Knees bending (crouching)',\n",
    "    9: 'Cycling',\n",
    "    10: 'Jogging',\n",
    "    11: 'Running',\n",
    "    12: 'Jump front & back'\n",
    "}"
   ]
  },
  {
   "cell_type": "code",
   "execution_count": null,
   "id": "ec83c6ff",
   "metadata": {},
   "outputs": [],
   "source": [
    "files=os.listdir(data_path)[:-1]\n",
    "files"
   ]
  },
  {
   "cell_type": "code",
   "execution_count": null,
   "id": "5abbf458",
   "metadata": {},
   "outputs": [],
   "source": [
    "col=['acc_left_ankle_x','acc_left_ankle_y','acc_left_ankle_z','gyro_left_ankle_x','gyro_left_ankle_y','gyro_left_ankle_z','acc_rla_x','acc_rla_y','acc_rla_z','gryo_rla_x','gryo_rla_y','gryo_rla_z','activity']"
   ]
  },
  {
   "cell_type": "code",
   "execution_count": null,
   "id": "fd082d99",
   "metadata": {},
   "outputs": [],
   "source": [
    "frame=[]\n",
    "for file in files:\n",
    "    df=pd.read_csv(os.path.join(data_path,file),names=columns,delim_whitespace=True,header=None)\n",
    "    df=df[col]\n",
    "    df['activity'].replace(activity,inplace=True)\n",
    "    frame.append(df)"
   ]
  },
  {
   "cell_type": "code",
   "execution_count": null,
   "id": "062c67eb",
   "metadata": {},
   "outputs": [],
   "source": [
    "data=pd.concat(frame)"
   ]
  },
  {
   "cell_type": "code",
   "execution_count": null,
   "id": "376c02e7",
   "metadata": {},
   "outputs": [],
   "source": [
    "d=data[data['activity']!='null']"
   ]
  },
  {
   "cell_type": "code",
   "execution_count": null,
   "id": "c40f2566",
   "metadata": {},
   "outputs": [],
   "source": [
    "d['activity'].value_counts()"
   ]
  },
  {
   "cell_type": "code",
   "execution_count": null,
   "id": "abe1d2d7",
   "metadata": {},
   "outputs": [],
   "source": [
    "x_data=d[['acc_left_ankle_x','acc_left_ankle_y','acc_left_ankle_z','gyro_left_ankle_x','gyro_left_ankle_y','gyro_left_ankle_z','acc_rla_x','acc_rla_y','acc_rla_z','gryo_rla_x','gryo_rla_y','gryo_rla_z']]\n",
    "y_data=d['activity']"
   ]
  },
  {
   "cell_type": "code",
   "execution_count": null,
   "id": "28d86811",
   "metadata": {},
   "outputs": [],
   "source": [
    "from sklearn.preprocessing import LabelEncoder\n",
    "encoder=LabelEncoder()\n",
    "data_set['activity']=encoder.fit_transform(data_set['activity'])\n",
    "encoder.classes_"
   ]
  },
  {
   "cell_type": "code",
   "execution_count": null,
   "id": "2204c410",
   "metadata": {},
   "outputs": [],
   "source": [
    "x_data=data_set[['acc_left_ankle_x','acc_left_ankle_y','acc_left_ankle_z','gyro_left_ankle_x','gyro_left_ankle_y','gyro_left_ankle_z','acc_rla_x','acc_rla_y','acc_rla_z','gryo_rla_x','gryo_rla_y','gryo_rla_z']]\n",
    "y_data=data_set['activity']"
   ]
  },
  {
   "cell_type": "code",
   "execution_count": null,
   "id": "5bb8a91a",
   "metadata": {},
   "outputs": [],
   "source": [
    "from sklearn.preprocessing import StandardScaler\n",
    "scaler=StandardScaler()\n",
    "x_data=scaler.fit_transform(x_data)\n",
    "x_data"
   ]
  },
  {
   "cell_type": "code",
   "execution_count": null,
   "id": "4161990e",
   "metadata": {},
   "outputs": [],
   "source": [
    "x_data=pd.DataFrame(x_data,columns=['acc_left_ankle_x','acc_left_ankle_y','acc_left_ankle_z','gyro_left_ankle_x','gyro_left_ankle_y','gyro_left_ankle_z','acc_rla_x','acc_rla_y','acc_rla_z','gryo_rla_x','gryo_rla_y','gryo_rla_z'])"
   ]
  },
  {
   "cell_type": "code",
   "execution_count": null,
   "id": "599f89af",
   "metadata": {},
   "outputs": [],
   "source": [
    "import statistics as stat\n",
    "frequency=32\n",
    "frame_size=4*frequency\n",
    "overlapping=2*frequency"
   ]
  },
  {
   "cell_type": "code",
   "execution_count": null,
   "id": "2d85143d",
   "metadata": {},
   "outputs": [],
   "source": [
    "data_frame=[]\n",
    "label_frame=[]\n",
    "for i in range(0,(len(x_data)-frame_size),overlapping):\n",
    "    x1=x_data['acc_left_ankle_x'].values[i:i+frame_size]\n",
    "    x2=x_data['acc_left_ankle_y'].values[i:i+frame_size]\n",
    "    x3=x_data['acc_left_ankle_z'].values[i:i+frame_size]\n",
    "    x4=x_data['gyro_left_ankle_x'].values[i:i+frame_size]\n",
    "    x5=x_data['gyro_left_ankle_y'].values[i:i+frame_size]\n",
    "    x6=x_data['gyro_left_ankle_z'].values[i:i+frame_size]\n",
    "    x7=x_data['acc_rla_x'].values[i:i+frame_size]\n",
    "    x8=x_data['acc_rla_y'].values[i:i+frame_size]\n",
    "    x9=x_data['acc_rla_z'].values[i:i+frame_size]\n",
    "    x10=x_data['gryo_rla_x'].values[i:i+frame_size]\n",
    "    x11=x_data['gryo_rla_y'].values[i:i+frame_size]\n",
    "    x12=x_data['gryo_rla_z'].values[i:i+frame_size]\n",
    "    \n",
    "    label=stat.mode(y_data[i:i+frame_size])\n",
    "    arr=np.asarray([x1,x2,x3,x4,x5,x6,x7,x8,x9,x10,x11,x12]).reshape(frame_size,12)\n",
    "    data_frame.append(arr)\n",
    "    label_frame.append(label)"
   ]
  },
  {
   "cell_type": "code",
   "execution_count": null,
   "id": "3d5ee882",
   "metadata": {},
   "outputs": [],
   "source": [
    "x_data=np.array(data_frame)\n",
    "x_data.shape"
   ]
  },
  {
   "cell_type": "code",
   "execution_count": null,
   "id": "f8545852",
   "metadata": {},
   "outputs": [],
   "source": [
    "y_data=np.asarray(label_frame)\n",
    "y_data"
   ]
  },
  {
   "cell_type": "code",
   "execution_count": null,
   "id": "247cd437",
   "metadata": {},
   "outputs": [],
   "source": []
  },
  {
   "cell_type": "code",
   "execution_count": null,
   "id": "248f6566",
   "metadata": {},
   "outputs": [],
   "source": [
    "from sklearn.model_selection import train_test_split\n",
    "x_train,x_test,y_train,y_test=train_test_split(x_data,y_data,test_size=0.2,random_state=42)\n",
    "print(x_train.shape)\n",
    "print(x_test.shape)\n",
    "print(y_train.shape)\n",
    "print(y_test.shape)"
   ]
  },
  {
   "cell_type": "code",
   "execution_count": null,
   "id": "63dd15f4",
   "metadata": {},
   "outputs": [],
   "source": []
  },
  {
   "cell_type": "code",
   "execution_count": null,
   "id": "4e079cc3",
   "metadata": {},
   "outputs": [],
   "source": [
    "import pywt"
   ]
  },
  {
   "cell_type": "code",
   "execution_count": null,
   "id": "29085671",
   "metadata": {},
   "outputs": [],
   "source": [
    "x_train_coff=np.ndarray(shape=(x_train.shape[0],128,128,12))\n",
    "scale = range(1,129)\n",
    "wavelet = 'gaus5'\n",
    "for i in range(x_train.shape[0]):   \n",
    "    for j in range(0,12):\n",
    "        sig=x_train[i,:,j]\n",
    "        coeff,freq=pywt.cwt(sig,scale,wavelet)\n",
    "        coeff_=coeff[:,:128]\n",
    "        x_train_coff[i,:,:,j]=coeff_"
   ]
  },
  {
   "cell_type": "code",
   "execution_count": null,
   "id": "68d2318c",
   "metadata": {},
   "outputs": [],
   "source": [
    "x_test_coff=np.ndarray(shape=(x_test.shape[0],128,128,12))\n",
    "scale = range(1,129)\n",
    "wavelet = 'gaus5'\n",
    "for i in range(x_test.shape[0]):   \n",
    "    for j in range(0,12):\n",
    "        sig=x_test[i,:,j]\n",
    "        coeff,freq=pywt.cwt(sig,scale,wavelet)\n",
    "        coeff_=coeff[:,:128]\n",
    "        x_test_coff[i,:,:,j]=coeff_"
   ]
  },
  {
   "cell_type": "code",
   "execution_count": null,
   "id": "f1d702f5",
   "metadata": {},
   "outputs": [],
   "source": []
  },
  {
   "cell_type": "code",
   "execution_count": null,
   "id": "d6fb62c9",
   "metadata": {},
   "outputs": [],
   "source": [
    "np.savez('...\\\\HAR\\\\Preprocessed Data\\\\Train.npz',x_train=x_train_coff,y_train=y_train)\n",
    "np.savez('...\\\\HAR\\\\Preprocessed Data\\\\Test.npz',x_test=x_test_coff,y_test=y_test)"
   ]
  },
  {
   "cell_type": "code",
   "execution_count": null,
   "id": "f9663cdb",
   "metadata": {},
   "outputs": [],
   "source": []
  }
 ],
 "metadata": {
  "kernelspec": {
   "display_name": "Python 3 (ipykernel)",
   "language": "python",
   "name": "python3"
  },
  "language_info": {
   "codemirror_mode": {
    "name": "ipython",
    "version": 3
   },
   "file_extension": ".py",
   "mimetype": "text/x-python",
   "name": "python",
   "nbconvert_exporter": "python",
   "pygments_lexer": "ipython3",
   "version": "3.8.8"
  }
 },
 "nbformat": 4,
 "nbformat_minor": 5
}
